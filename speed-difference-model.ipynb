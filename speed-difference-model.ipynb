{
 "cells": [
  {
   "cell_type": "code",
   "execution_count": 10,
   "metadata": {},
   "outputs": [],
   "source": [
    "from fastai.vision.all import *\n",
    "import cv2"
   ]
  },
  {
   "cell_type": "code",
   "execution_count": 3,
   "metadata": {},
   "outputs": [],
   "source": [
    "train_path = './commaai/data/train/'\n",
    "valid_path = './commaai/data/valid/'\n",
    "img_diff_path = './commaai/diff/'"
   ]
  },
  {
   "cell_type": "code",
   "execution_count": 47,
   "metadata": {},
   "outputs": [],
   "source": [
    "# create a dataset based on img differences\n",
    "# so img(2) - img(1) for imgs in sequence\n",
    "# labes become speed(2) - speed(1)\n",
    "# idea is that we learn only the differences\n",
    "# as footage in sequence seems pretty identical\n",
    "\n",
    "\n",
    "def extract_difference(img_dir, img_diff_path):\n",
    "    images = list(sorted(os.listdir(img_dir))) # make sure you iterate in order\n",
    "    \n",
    "    if not os.path.exists(img_diff_path):\n",
    "        os.makedirs(img_diff_path)\n",
    "    looper = 0\n",
    "    for img in images:\n",
    "        try:\n",
    "            img_1 = cv2.imread(train_path + img)\n",
    "\n",
    "            next_image = cv2.imread(train_path + images[looper + 1])\n",
    "\n",
    "            img_diff = next_image - img_1\n",
    "\n",
    "            cv2.imwrite(img_diff_path + f'{looper}.jpg', img_diff)\n",
    "            looper += 1\n",
    "        except IndexError as e:\n",
    "            pass"
   ]
  },
  {
   "cell_type": "code",
   "execution_count": 48,
   "metadata": {},
   "outputs": [],
   "source": [
    "extract_difference(train_path, img_diff_path)"
   ]
  },
  {
   "cell_type": "code",
   "execution_count": 54,
   "metadata": {},
   "outputs": [],
   "source": [
    "def create_labels(txt_path):\n",
    "    with open(txt_path, 'r', encoding='ISO-8859-1') as fh:\n",
    "        lister = fh.readlines()\n",
    "        \n",
    "    looper = 0\n",
    "    differences = []\n",
    "    for speed in lister:\n",
    "        try:\n",
    "            speed_diff = float(lister[looper + 1]) - float(speed)\n",
    "            differences.append(speed_diff)\n",
    "        except IndexError as e:\n",
    "            pass\n",
    "    return differences"
   ]
  },
  {
   "cell_type": "code",
   "execution_count": 55,
   "metadata": {},
   "outputs": [],
   "source": [
    "labels = create_labels('./commaai/' + 'train.txt')"
   ]
  },
  {
   "cell_type": "code",
   "execution_count": 35,
   "metadata": {},
   "outputs": [],
   "source": [
    "def get_speed(img_name):\n",
    "    img_name = str(img_name)\n",
    "    img_only = img_name.replace('commaai/diff/','')\n",
    "    idx = int(img_only.replace('.jpg',''))\n",
    "    return labels[idx]"
   ]
  },
  {
   "cell_type": "code",
   "execution_count": 38,
   "metadata": {},
   "outputs": [],
   "source": [
    "idxs = [x for x in range(18000, 20398, 1)] # grab ~10% of images for val"
   ]
  },
  {
   "cell_type": "code",
   "execution_count": 57,
   "metadata": {},
   "outputs": [],
   "source": [
    "speeder = DataBlock(\n",
    "    blocks=(ImageBlock, RegressionBlock),\n",
    "    get_items=get_image_files,\n",
    "    get_y=get_speed,\n",
    "    splitter=IndexSplitter(idxs),\n",
    "    batch_tfms=[*aug_transforms(size=(240,320)), \n",
    "                Normalize.from_stats(*imagenet_stats)]\n",
    ")"
   ]
  },
  {
   "cell_type": "code",
   "execution_count": 58,
   "metadata": {},
   "outputs": [],
   "source": [
    "dls = speeder.dataloaders(img_diff_path)"
   ]
  },
  {
   "cell_type": "code",
   "execution_count": 59,
   "metadata": {},
   "outputs": [],
   "source": [
    "learn = cnn_learner(dls, resnet34, metrics=rmse)\n",
    "learn.loss = MSELossFlat()"
   ]
  },
  {
   "cell_type": "code",
   "execution_count": 60,
   "metadata": {},
   "outputs": [
    {
     "data": {
      "text/html": [
       "<table border=\"1\" class=\"dataframe\">\n",
       "  <thead>\n",
       "    <tr style=\"text-align: left;\">\n",
       "      <th>epoch</th>\n",
       "      <th>train_loss</th>\n",
       "      <th>valid_loss</th>\n",
       "      <th>_rmse</th>\n",
       "      <th>time</th>\n",
       "    </tr>\n",
       "  </thead>\n",
       "  <tbody>\n",
       "    <tr>\n",
       "      <td>0</td>\n",
       "      <td>73.067833</td>\n",
       "      <td>22.009066</td>\n",
       "      <td>4.691382</td>\n",
       "      <td>01:19</td>\n",
       "    </tr>\n",
       "  </tbody>\n",
       "</table>"
      ],
      "text/plain": [
       "<IPython.core.display.HTML object>"
      ]
     },
     "metadata": {},
     "output_type": "display_data"
    },
    {
     "data": {
      "text/html": [
       "<table border=\"1\" class=\"dataframe\">\n",
       "  <thead>\n",
       "    <tr style=\"text-align: left;\">\n",
       "      <th>epoch</th>\n",
       "      <th>train_loss</th>\n",
       "      <th>valid_loss</th>\n",
       "      <th>_rmse</th>\n",
       "      <th>time</th>\n",
       "    </tr>\n",
       "  </thead>\n",
       "  <tbody>\n",
       "    <tr>\n",
       "      <td>0</td>\n",
       "      <td>20.785078</td>\n",
       "      <td>8.447062</td>\n",
       "      <td>2.906383</td>\n",
       "      <td>01:41</td>\n",
       "    </tr>\n",
       "    <tr>\n",
       "      <td>1</td>\n",
       "      <td>15.264235</td>\n",
       "      <td>6.388496</td>\n",
       "      <td>2.527548</td>\n",
       "      <td>01:38</td>\n",
       "    </tr>\n",
       "    <tr>\n",
       "      <td>2</td>\n",
       "      <td>10.883669</td>\n",
       "      <td>4.014466</td>\n",
       "      <td>2.003613</td>\n",
       "      <td>01:42</td>\n",
       "    </tr>\n",
       "    <tr>\n",
       "      <td>3</td>\n",
       "      <td>7.952866</td>\n",
       "      <td>2.624630</td>\n",
       "      <td>1.620071</td>\n",
       "      <td>01:37</td>\n",
       "    </tr>\n",
       "    <tr>\n",
       "      <td>4</td>\n",
       "      <td>6.557484</td>\n",
       "      <td>2.234188</td>\n",
       "      <td>1.494720</td>\n",
       "      <td>01:39</td>\n",
       "    </tr>\n",
       "    <tr>\n",
       "      <td>5</td>\n",
       "      <td>5.554434</td>\n",
       "      <td>1.376750</td>\n",
       "      <td>1.173350</td>\n",
       "      <td>01:38</td>\n",
       "    </tr>\n",
       "    <tr>\n",
       "      <td>6</td>\n",
       "      <td>4.661615</td>\n",
       "      <td>1.229061</td>\n",
       "      <td>1.108630</td>\n",
       "      <td>01:37</td>\n",
       "    </tr>\n",
       "    <tr>\n",
       "      <td>7</td>\n",
       "      <td>4.105191</td>\n",
       "      <td>1.067537</td>\n",
       "      <td>1.033217</td>\n",
       "      <td>01:37</td>\n",
       "    </tr>\n",
       "    <tr>\n",
       "      <td>8</td>\n",
       "      <td>3.430081</td>\n",
       "      <td>0.803014</td>\n",
       "      <td>0.896111</td>\n",
       "      <td>01:37</td>\n",
       "    </tr>\n",
       "    <tr>\n",
       "      <td>9</td>\n",
       "      <td>3.673837</td>\n",
       "      <td>0.722111</td>\n",
       "      <td>0.849771</td>\n",
       "      <td>01:37</td>\n",
       "    </tr>\n",
       "    <tr>\n",
       "      <td>10</td>\n",
       "      <td>3.570913</td>\n",
       "      <td>0.650038</td>\n",
       "      <td>0.806249</td>\n",
       "      <td>01:37</td>\n",
       "    </tr>\n",
       "    <tr>\n",
       "      <td>11</td>\n",
       "      <td>3.349813</td>\n",
       "      <td>0.758955</td>\n",
       "      <td>0.871180</td>\n",
       "      <td>01:37</td>\n",
       "    </tr>\n",
       "  </tbody>\n",
       "</table>"
      ],
      "text/plain": [
       "<IPython.core.display.HTML object>"
      ]
     },
     "metadata": {},
     "output_type": "display_data"
    }
   ],
   "source": [
    "learn.fine_tune(12)"
   ]
  },
  {
   "cell_type": "code",
   "execution_count": null,
   "metadata": {},
   "outputs": [],
   "source": []
  }
 ],
 "metadata": {
  "kernelspec": {
   "display_name": "Python 3",
   "language": "python",
   "name": "python3"
  },
  "language_info": {
   "codemirror_mode": {
    "name": "ipython",
    "version": 3
   },
   "file_extension": ".py",
   "mimetype": "text/x-python",
   "name": "python",
   "nbconvert_exporter": "python",
   "pygments_lexer": "ipython3",
   "version": "3.8.0"
  }
 },
 "nbformat": 4,
 "nbformat_minor": 4
}
